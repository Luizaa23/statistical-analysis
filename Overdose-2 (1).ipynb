{
 "cells": [
  {
   "cell_type": "code",
   "execution_count": 55,
   "id": "f9e24492-1c2e-44c3-8865-12f9054ccef4",
   "metadata": {},
   "outputs": [
    {
     "data": {
      "text/html": [
       "<div>\n",
       "<style scoped>\n",
       "    .dataframe tbody tr th:only-of-type {\n",
       "        vertical-align: middle;\n",
       "    }\n",
       "\n",
       "    .dataframe tbody tr th {\n",
       "        vertical-align: top;\n",
       "    }\n",
       "\n",
       "    .dataframe thead th {\n",
       "        text-align: right;\n",
       "    }\n",
       "</style>\n",
       "<table border=\"1\" class=\"dataframe\">\n",
       "  <thead>\n",
       "    <tr style=\"text-align: right;\">\n",
       "      <th></th>\n",
       "      <th>Entity</th>\n",
       "      <th>Code</th>\n",
       "      <th>Year</th>\n",
       "      <th>Any opioid death rates (CDC WONDER)</th>\n",
       "      <th>Cocaine overdose death rates (CDC WONDER)</th>\n",
       "      <th>Heroin overdose death rates (CDC WONDER)</th>\n",
       "      <th>Synthetic opioids death rates (CDC WONDER)</th>\n",
       "      <th>Prescription Opioids death rates (US CDC WONDER)</th>\n",
       "    </tr>\n",
       "  </thead>\n",
       "  <tbody>\n",
       "    <tr>\n",
       "      <th>0</th>\n",
       "      <td>United States</td>\n",
       "      <td>USA</td>\n",
       "      <td>1999</td>\n",
       "      <td>2.9</td>\n",
       "      <td>1.4</td>\n",
       "      <td>0.7</td>\n",
       "      <td>0.3</td>\n",
       "      <td>1.2</td>\n",
       "    </tr>\n",
       "    <tr>\n",
       "      <th>1</th>\n",
       "      <td>United States</td>\n",
       "      <td>USA</td>\n",
       "      <td>2000</td>\n",
       "      <td>3.0</td>\n",
       "      <td>1.3</td>\n",
       "      <td>0.7</td>\n",
       "      <td>0.3</td>\n",
       "      <td>1.3</td>\n",
       "    </tr>\n",
       "    <tr>\n",
       "      <th>2</th>\n",
       "      <td>United States</td>\n",
       "      <td>USA</td>\n",
       "      <td>2001</td>\n",
       "      <td>3.3</td>\n",
       "      <td>1.3</td>\n",
       "      <td>0.6</td>\n",
       "      <td>0.3</td>\n",
       "      <td>1.7</td>\n",
       "    </tr>\n",
       "    <tr>\n",
       "      <th>3</th>\n",
       "      <td>United States</td>\n",
       "      <td>USA</td>\n",
       "      <td>2002</td>\n",
       "      <td>4.1</td>\n",
       "      <td>1.6</td>\n",
       "      <td>0.7</td>\n",
       "      <td>0.4</td>\n",
       "      <td>2.3</td>\n",
       "    </tr>\n",
       "    <tr>\n",
       "      <th>4</th>\n",
       "      <td>United States</td>\n",
       "      <td>USA</td>\n",
       "      <td>2003</td>\n",
       "      <td>4.5</td>\n",
       "      <td>1.8</td>\n",
       "      <td>0.7</td>\n",
       "      <td>0.5</td>\n",
       "      <td>2.6</td>\n",
       "    </tr>\n",
       "    <tr>\n",
       "      <th>5</th>\n",
       "      <td>United States</td>\n",
       "      <td>USA</td>\n",
       "      <td>2004</td>\n",
       "      <td>4.7</td>\n",
       "      <td>1.9</td>\n",
       "      <td>0.6</td>\n",
       "      <td>0.6</td>\n",
       "      <td>2.9</td>\n",
       "    </tr>\n",
       "    <tr>\n",
       "      <th>6</th>\n",
       "      <td>United States</td>\n",
       "      <td>USA</td>\n",
       "      <td>2005</td>\n",
       "      <td>5.1</td>\n",
       "      <td>2.1</td>\n",
       "      <td>0.7</td>\n",
       "      <td>0.6</td>\n",
       "      <td>3.2</td>\n",
       "    </tr>\n",
       "    <tr>\n",
       "      <th>7</th>\n",
       "      <td>United States</td>\n",
       "      <td>USA</td>\n",
       "      <td>2006</td>\n",
       "      <td>5.9</td>\n",
       "      <td>2.5</td>\n",
       "      <td>0.7</td>\n",
       "      <td>0.9</td>\n",
       "      <td>3.9</td>\n",
       "    </tr>\n",
       "    <tr>\n",
       "      <th>8</th>\n",
       "      <td>United States</td>\n",
       "      <td>USA</td>\n",
       "      <td>2007</td>\n",
       "      <td>6.1</td>\n",
       "      <td>2.2</td>\n",
       "      <td>0.8</td>\n",
       "      <td>0.7</td>\n",
       "      <td>4.2</td>\n",
       "    </tr>\n",
       "    <tr>\n",
       "      <th>9</th>\n",
       "      <td>United States</td>\n",
       "      <td>USA</td>\n",
       "      <td>2008</td>\n",
       "      <td>6.4</td>\n",
       "      <td>1.7</td>\n",
       "      <td>1.0</td>\n",
       "      <td>0.8</td>\n",
       "      <td>4.3</td>\n",
       "    </tr>\n",
       "    <tr>\n",
       "      <th>10</th>\n",
       "      <td>United States</td>\n",
       "      <td>USA</td>\n",
       "      <td>2009</td>\n",
       "      <td>6.6</td>\n",
       "      <td>1.4</td>\n",
       "      <td>1.1</td>\n",
       "      <td>1.0</td>\n",
       "      <td>4.4</td>\n",
       "    </tr>\n",
       "    <tr>\n",
       "      <th>11</th>\n",
       "      <td>United States</td>\n",
       "      <td>USA</td>\n",
       "      <td>2010</td>\n",
       "      <td>6.8</td>\n",
       "      <td>1.3</td>\n",
       "      <td>1.0</td>\n",
       "      <td>1.0</td>\n",
       "      <td>4.7</td>\n",
       "    </tr>\n",
       "    <tr>\n",
       "      <th>12</th>\n",
       "      <td>United States</td>\n",
       "      <td>USA</td>\n",
       "      <td>2011</td>\n",
       "      <td>7.3</td>\n",
       "      <td>1.5</td>\n",
       "      <td>1.4</td>\n",
       "      <td>0.8</td>\n",
       "      <td>4.9</td>\n",
       "    </tr>\n",
       "    <tr>\n",
       "      <th>13</th>\n",
       "      <td>United States</td>\n",
       "      <td>USA</td>\n",
       "      <td>2012</td>\n",
       "      <td>7.4</td>\n",
       "      <td>1.4</td>\n",
       "      <td>1.9</td>\n",
       "      <td>0.8</td>\n",
       "      <td>4.5</td>\n",
       "    </tr>\n",
       "    <tr>\n",
       "      <th>14</th>\n",
       "      <td>United States</td>\n",
       "      <td>USA</td>\n",
       "      <td>2013</td>\n",
       "      <td>7.9</td>\n",
       "      <td>1.6</td>\n",
       "      <td>2.7</td>\n",
       "      <td>1.0</td>\n",
       "      <td>4.4</td>\n",
       "    </tr>\n",
       "    <tr>\n",
       "      <th>15</th>\n",
       "      <td>United States</td>\n",
       "      <td>USA</td>\n",
       "      <td>2014</td>\n",
       "      <td>9.0</td>\n",
       "      <td>1.7</td>\n",
       "      <td>3.4</td>\n",
       "      <td>1.8</td>\n",
       "      <td>4.6</td>\n",
       "    </tr>\n",
       "    <tr>\n",
       "      <th>16</th>\n",
       "      <td>United States</td>\n",
       "      <td>USA</td>\n",
       "      <td>2015</td>\n",
       "      <td>10.4</td>\n",
       "      <td>2.1</td>\n",
       "      <td>4.1</td>\n",
       "      <td>3.1</td>\n",
       "      <td>4.7</td>\n",
       "    </tr>\n",
       "    <tr>\n",
       "      <th>17</th>\n",
       "      <td>United States</td>\n",
       "      <td>USA</td>\n",
       "      <td>2016</td>\n",
       "      <td>13.3</td>\n",
       "      <td>3.2</td>\n",
       "      <td>4.9</td>\n",
       "      <td>6.2</td>\n",
       "      <td>5.2</td>\n",
       "    </tr>\n",
       "    <tr>\n",
       "      <th>18</th>\n",
       "      <td>United States</td>\n",
       "      <td>USA</td>\n",
       "      <td>2017</td>\n",
       "      <td>14.9</td>\n",
       "      <td>4.3</td>\n",
       "      <td>4.9</td>\n",
       "      <td>9.0</td>\n",
       "      <td>5.2</td>\n",
       "    </tr>\n",
       "    <tr>\n",
       "      <th>19</th>\n",
       "      <td>United States</td>\n",
       "      <td>USA</td>\n",
       "      <td>2018</td>\n",
       "      <td>14.6</td>\n",
       "      <td>4.5</td>\n",
       "      <td>4.7</td>\n",
       "      <td>9.9</td>\n",
       "      <td>4.5</td>\n",
       "    </tr>\n",
       "    <tr>\n",
       "      <th>20</th>\n",
       "      <td>United States</td>\n",
       "      <td>USA</td>\n",
       "      <td>2019</td>\n",
       "      <td>15.5</td>\n",
       "      <td>4.9</td>\n",
       "      <td>4.4</td>\n",
       "      <td>11.4</td>\n",
       "      <td>4.2</td>\n",
       "    </tr>\n",
       "    <tr>\n",
       "      <th>21</th>\n",
       "      <td>United States</td>\n",
       "      <td>USA</td>\n",
       "      <td>2020</td>\n",
       "      <td>21.4</td>\n",
       "      <td>6.0</td>\n",
       "      <td>4.1</td>\n",
       "      <td>17.8</td>\n",
       "      <td>4.9</td>\n",
       "    </tr>\n",
       "  </tbody>\n",
       "</table>\n",
       "</div>"
      ],
      "text/plain": [
       "           Entity Code  Year  Any opioid death rates (CDC WONDER)  \\\n",
       "0   United States  USA  1999                                  2.9   \n",
       "1   United States  USA  2000                                  3.0   \n",
       "2   United States  USA  2001                                  3.3   \n",
       "3   United States  USA  2002                                  4.1   \n",
       "4   United States  USA  2003                                  4.5   \n",
       "5   United States  USA  2004                                  4.7   \n",
       "6   United States  USA  2005                                  5.1   \n",
       "7   United States  USA  2006                                  5.9   \n",
       "8   United States  USA  2007                                  6.1   \n",
       "9   United States  USA  2008                                  6.4   \n",
       "10  United States  USA  2009                                  6.6   \n",
       "11  United States  USA  2010                                  6.8   \n",
       "12  United States  USA  2011                                  7.3   \n",
       "13  United States  USA  2012                                  7.4   \n",
       "14  United States  USA  2013                                  7.9   \n",
       "15  United States  USA  2014                                  9.0   \n",
       "16  United States  USA  2015                                 10.4   \n",
       "17  United States  USA  2016                                 13.3   \n",
       "18  United States  USA  2017                                 14.9   \n",
       "19  United States  USA  2018                                 14.6   \n",
       "20  United States  USA  2019                                 15.5   \n",
       "21  United States  USA  2020                                 21.4   \n",
       "\n",
       "    Cocaine overdose death rates (CDC WONDER)  \\\n",
       "0                                         1.4   \n",
       "1                                         1.3   \n",
       "2                                         1.3   \n",
       "3                                         1.6   \n",
       "4                                         1.8   \n",
       "5                                         1.9   \n",
       "6                                         2.1   \n",
       "7                                         2.5   \n",
       "8                                         2.2   \n",
       "9                                         1.7   \n",
       "10                                        1.4   \n",
       "11                                        1.3   \n",
       "12                                        1.5   \n",
       "13                                        1.4   \n",
       "14                                        1.6   \n",
       "15                                        1.7   \n",
       "16                                        2.1   \n",
       "17                                        3.2   \n",
       "18                                        4.3   \n",
       "19                                        4.5   \n",
       "20                                        4.9   \n",
       "21                                        6.0   \n",
       "\n",
       "    Heroin overdose death rates (CDC WONDER)  \\\n",
       "0                                        0.7   \n",
       "1                                        0.7   \n",
       "2                                        0.6   \n",
       "3                                        0.7   \n",
       "4                                        0.7   \n",
       "5                                        0.6   \n",
       "6                                        0.7   \n",
       "7                                        0.7   \n",
       "8                                        0.8   \n",
       "9                                        1.0   \n",
       "10                                       1.1   \n",
       "11                                       1.0   \n",
       "12                                       1.4   \n",
       "13                                       1.9   \n",
       "14                                       2.7   \n",
       "15                                       3.4   \n",
       "16                                       4.1   \n",
       "17                                       4.9   \n",
       "18                                       4.9   \n",
       "19                                       4.7   \n",
       "20                                       4.4   \n",
       "21                                       4.1   \n",
       "\n",
       "    Synthetic opioids death rates (CDC WONDER)  \\\n",
       "0                                          0.3   \n",
       "1                                          0.3   \n",
       "2                                          0.3   \n",
       "3                                          0.4   \n",
       "4                                          0.5   \n",
       "5                                          0.6   \n",
       "6                                          0.6   \n",
       "7                                          0.9   \n",
       "8                                          0.7   \n",
       "9                                          0.8   \n",
       "10                                         1.0   \n",
       "11                                         1.0   \n",
       "12                                         0.8   \n",
       "13                                         0.8   \n",
       "14                                         1.0   \n",
       "15                                         1.8   \n",
       "16                                         3.1   \n",
       "17                                         6.2   \n",
       "18                                         9.0   \n",
       "19                                         9.9   \n",
       "20                                        11.4   \n",
       "21                                        17.8   \n",
       "\n",
       "    Prescription Opioids death rates (US CDC WONDER)  \n",
       "0                                                1.2  \n",
       "1                                                1.3  \n",
       "2                                                1.7  \n",
       "3                                                2.3  \n",
       "4                                                2.6  \n",
       "5                                                2.9  \n",
       "6                                                3.2  \n",
       "7                                                3.9  \n",
       "8                                                4.2  \n",
       "9                                                4.3  \n",
       "10                                               4.4  \n",
       "11                                               4.7  \n",
       "12                                               4.9  \n",
       "13                                               4.5  \n",
       "14                                               4.4  \n",
       "15                                               4.6  \n",
       "16                                               4.7  \n",
       "17                                               5.2  \n",
       "18                                               5.2  \n",
       "19                                               4.5  \n",
       "20                                               4.2  \n",
       "21                                               4.9  "
      ]
     },
     "execution_count": 55,
     "metadata": {},
     "output_type": "execute_result"
    }
   ],
   "source": [
    "import pandas as pd\n",
    "df=pd.read_csv(\"drug-overdose-death-rates new.csv\", sep=\",\")\n",
    "df"
   ]
  },
  {
   "cell_type": "code",
   "execution_count": 56,
   "id": "704c120e-708f-475c-ae99-2879e8569a76",
   "metadata": {},
   "outputs": [],
   "source": [
    "import numpy as np\n",
    "import matplotlib.pyplot as plt\n",
    "import matplotlib as mpl\n",
    "import warnings \n",
    "warnings.filterwarnings(\"ignore\", category=DeprecationWarning)\n",
    "%matplotlib inline"
   ]
  },
  {
   "cell_type": "code",
   "execution_count": 57,
   "id": "3b7d682a-082c-4234-81df-ed6aaff82b56",
   "metadata": {},
   "outputs": [
    {
     "name": "stdout",
     "output_type": "stream",
     "text": [
      "           Entity Code  Year  Any opioid death rates (CDC WONDER)  \\\n",
      "0   United States  USA  1999                                  2.9   \n",
      "1   United States  USA  2000                                  3.0   \n",
      "2   United States  USA  2001                                  3.3   \n",
      "3   United States  USA  2002                                  4.1   \n",
      "4   United States  USA  2003                                  4.5   \n",
      "5   United States  USA  2004                                  4.7   \n",
      "6   United States  USA  2005                                  5.1   \n",
      "7   United States  USA  2006                                  5.9   \n",
      "8   United States  USA  2007                                  6.1   \n",
      "9   United States  USA  2008                                  6.4   \n",
      "10  United States  USA  2009                                  6.6   \n",
      "11  United States  USA  2010                                  6.8   \n",
      "12  United States  USA  2011                                  7.3   \n",
      "13  United States  USA  2012                                  7.4   \n",
      "14  United States  USA  2013                                  7.9   \n",
      "15  United States  USA  2014                                  9.0   \n",
      "16  United States  USA  2015                                 10.4   \n",
      "17  United States  USA  2016                                 13.3   \n",
      "18  United States  USA  2017                                 14.9   \n",
      "19  United States  USA  2018                                 14.6   \n",
      "20  United States  USA  2019                                 15.5   \n",
      "21  United States  USA  2020                                 21.4   \n",
      "\n",
      "    Cocaine overdose death rates (CDC WONDER)  \\\n",
      "0                                         1.4   \n",
      "1                                         1.3   \n",
      "2                                         1.3   \n",
      "3                                         1.6   \n",
      "4                                         1.8   \n",
      "5                                         1.9   \n",
      "6                                         2.1   \n",
      "7                                         2.5   \n",
      "8                                         2.2   \n",
      "9                                         1.7   \n",
      "10                                        1.4   \n",
      "11                                        1.3   \n",
      "12                                        1.5   \n",
      "13                                        1.4   \n",
      "14                                        1.6   \n",
      "15                                        1.7   \n",
      "16                                        2.1   \n",
      "17                                        3.2   \n",
      "18                                        4.3   \n",
      "19                                        4.5   \n",
      "20                                        4.9   \n",
      "21                                        6.0   \n",
      "\n",
      "    Heroin overdose death rates (CDC WONDER)  \\\n",
      "0                                        0.7   \n",
      "1                                        0.7   \n",
      "2                                        0.6   \n",
      "3                                        0.7   \n",
      "4                                        0.7   \n",
      "5                                        0.6   \n",
      "6                                        0.7   \n",
      "7                                        0.7   \n",
      "8                                        0.8   \n",
      "9                                        1.0   \n",
      "10                                       1.1   \n",
      "11                                       1.0   \n",
      "12                                       1.4   \n",
      "13                                       1.9   \n",
      "14                                       2.7   \n",
      "15                                       3.4   \n",
      "16                                       4.1   \n",
      "17                                       4.9   \n",
      "18                                       4.9   \n",
      "19                                       4.7   \n",
      "20                                       4.4   \n",
      "21                                       4.1   \n",
      "\n",
      "    Synthetic opioids death rates (CDC WONDER)  \\\n",
      "0                                          0.3   \n",
      "1                                          0.3   \n",
      "2                                          0.3   \n",
      "3                                          0.4   \n",
      "4                                          0.5   \n",
      "5                                          0.6   \n",
      "6                                          0.6   \n",
      "7                                          0.9   \n",
      "8                                          0.7   \n",
      "9                                          0.8   \n",
      "10                                         1.0   \n",
      "11                                         1.0   \n",
      "12                                         0.8   \n",
      "13                                         0.8   \n",
      "14                                         1.0   \n",
      "15                                         1.8   \n",
      "16                                         3.1   \n",
      "17                                         6.2   \n",
      "18                                         9.0   \n",
      "19                                         9.9   \n",
      "20                                        11.4   \n",
      "21                                        17.8   \n",
      "\n",
      "    Prescription Opioids death rates (US CDC WONDER)  \n",
      "0                                                1.2  \n",
      "1                                                1.3  \n",
      "2                                                1.7  \n",
      "3                                                2.3  \n",
      "4                                                2.6  \n",
      "5                                                2.9  \n",
      "6                                                3.2  \n",
      "7                                                3.9  \n",
      "8                                                4.2  \n",
      "9                                                4.3  \n",
      "10                                               4.4  \n",
      "11                                               4.7  \n",
      "12                                               4.9  \n",
      "13                                               4.5  \n",
      "14                                               4.4  \n",
      "15                                               4.6  \n",
      "16                                               4.7  \n",
      "17                                               5.2  \n",
      "18                                               5.2  \n",
      "19                                               4.5  \n",
      "20                                               4.2  \n",
      "21                                               4.9  \n"
     ]
    },
    {
     "data": {
      "text/html": [
       "<div>\n",
       "<style scoped>\n",
       "    .dataframe tbody tr th:only-of-type {\n",
       "        vertical-align: middle;\n",
       "    }\n",
       "\n",
       "    .dataframe tbody tr th {\n",
       "        vertical-align: top;\n",
       "    }\n",
       "\n",
       "    .dataframe thead th {\n",
       "        text-align: right;\n",
       "    }\n",
       "</style>\n",
       "<table border=\"1\" class=\"dataframe\">\n",
       "  <thead>\n",
       "    <tr style=\"text-align: right;\">\n",
       "      <th></th>\n",
       "      <th>Entity</th>\n",
       "      <th>Code</th>\n",
       "      <th>Year</th>\n",
       "      <th>Any opioid death rates (CDC WONDER)</th>\n",
       "      <th>Cocaine overdose death rates (CDC WONDER)</th>\n",
       "      <th>Heroin overdose death rates (CDC WONDER)</th>\n",
       "      <th>Synthetic opioids death rates (CDC WONDER)</th>\n",
       "      <th>Prescription Opioids death rates (US CDC WONDER)</th>\n",
       "    </tr>\n",
       "  </thead>\n",
       "  <tbody>\n",
       "    <tr>\n",
       "      <th>0</th>\n",
       "      <td>United States</td>\n",
       "      <td>USA</td>\n",
       "      <td>1999</td>\n",
       "      <td>2.9</td>\n",
       "      <td>1.4</td>\n",
       "      <td>0.7</td>\n",
       "      <td>0.3</td>\n",
       "      <td>1.2</td>\n",
       "    </tr>\n",
       "    <tr>\n",
       "      <th>1</th>\n",
       "      <td>United States</td>\n",
       "      <td>USA</td>\n",
       "      <td>2000</td>\n",
       "      <td>3.0</td>\n",
       "      <td>1.3</td>\n",
       "      <td>0.7</td>\n",
       "      <td>0.3</td>\n",
       "      <td>1.3</td>\n",
       "    </tr>\n",
       "    <tr>\n",
       "      <th>2</th>\n",
       "      <td>United States</td>\n",
       "      <td>USA</td>\n",
       "      <td>2001</td>\n",
       "      <td>3.3</td>\n",
       "      <td>1.3</td>\n",
       "      <td>0.6</td>\n",
       "      <td>0.3</td>\n",
       "      <td>1.7</td>\n",
       "    </tr>\n",
       "    <tr>\n",
       "      <th>3</th>\n",
       "      <td>United States</td>\n",
       "      <td>USA</td>\n",
       "      <td>2002</td>\n",
       "      <td>4.1</td>\n",
       "      <td>1.6</td>\n",
       "      <td>0.7</td>\n",
       "      <td>0.4</td>\n",
       "      <td>2.3</td>\n",
       "    </tr>\n",
       "    <tr>\n",
       "      <th>4</th>\n",
       "      <td>United States</td>\n",
       "      <td>USA</td>\n",
       "      <td>2003</td>\n",
       "      <td>4.5</td>\n",
       "      <td>1.8</td>\n",
       "      <td>0.7</td>\n",
       "      <td>0.5</td>\n",
       "      <td>2.6</td>\n",
       "    </tr>\n",
       "  </tbody>\n",
       "</table>\n",
       "</div>"
      ],
      "text/plain": [
       "          Entity Code  Year  Any opioid death rates (CDC WONDER)  \\\n",
       "0  United States  USA  1999                                  2.9   \n",
       "1  United States  USA  2000                                  3.0   \n",
       "2  United States  USA  2001                                  3.3   \n",
       "3  United States  USA  2002                                  4.1   \n",
       "4  United States  USA  2003                                  4.5   \n",
       "\n",
       "   Cocaine overdose death rates (CDC WONDER)  \\\n",
       "0                                        1.4   \n",
       "1                                        1.3   \n",
       "2                                        1.3   \n",
       "3                                        1.6   \n",
       "4                                        1.8   \n",
       "\n",
       "   Heroin overdose death rates (CDC WONDER)  \\\n",
       "0                                       0.7   \n",
       "1                                       0.7   \n",
       "2                                       0.6   \n",
       "3                                       0.7   \n",
       "4                                       0.7   \n",
       "\n",
       "   Synthetic opioids death rates (CDC WONDER)  \\\n",
       "0                                         0.3   \n",
       "1                                         0.3   \n",
       "2                                         0.3   \n",
       "3                                         0.4   \n",
       "4                                         0.5   \n",
       "\n",
       "   Prescription Opioids death rates (US CDC WONDER)  \n",
       "0                                               1.2  \n",
       "1                                               1.3  \n",
       "2                                               1.7  \n",
       "3                                               2.3  \n",
       "4                                               2.6  "
      ]
     },
     "execution_count": 57,
     "metadata": {},
     "output_type": "execute_result"
    }
   ],
   "source": [
    "df = pd.read_csv(\"drug-overdose-death-rates new.csv\")\n",
    "print(df)\n",
    "df.head(5)"
   ]
  },
  {
   "cell_type": "code",
   "execution_count": 58,
   "id": "dcbd3ec2-d02e-4ce7-ba72-afc6d69860d0",
   "metadata": {},
   "outputs": [],
   "source": [
    "valor_medio = df['Cocaine overdose death rates (CDC WONDER)'].mean()"
   ]
  },
  {
   "cell_type": "code",
   "execution_count": 59,
   "id": "225442f7-e9c1-48d6-928e-bd618732ed16",
   "metadata": {},
   "outputs": [
    {
     "data": {
      "text/plain": [
       "2.3499999999999996"
      ]
     },
     "execution_count": 59,
     "metadata": {},
     "output_type": "execute_result"
    }
   ],
   "source": [
    "valor_medio"
   ]
  },
  {
   "cell_type": "code",
   "execution_count": 60,
   "id": "82aaf3cf-9eb7-485b-8c81-4b6bda4ee920",
   "metadata": {},
   "outputs": [
    {
     "name": "stdout",
     "output_type": "stream",
     "text": [
      "Soma dos quadrados dos erros(SSE): 38\n"
     ]
    }
   ],
   "source": [
    "#simulando SSE\n",
    "squared_errors = pd.Series(valor_medio - df['Cocaine overdose death rates (CDC WONDER)'])**2\n",
    "SSE = np.sum(squared_errors)\n",
    "print ('Soma dos quadrados dos erros(SSE): %01.f'% SSE)"
   ]
  },
  {
   "cell_type": "code",
   "execution_count": 61,
   "id": "bb0f184c-046b-4c25-8ead-27e4e50f4c85",
   "metadata": {},
   "outputs": [
    {
     "name": "stderr",
     "output_type": "stream",
     "text": [
      "C:\\Users\\ALUNO PROZ\\anaconda3\\Lib\\site-packages\\seaborn\\_oldcore.py:1119: FutureWarning: use_inf_as_na option is deprecated and will be removed in a future version. Convert inf values to NaN before operating instead.\n",
      "  with pd.option_context('mode.use_inf_as_na', True):\n"
     ]
    },
    {
     "data": {
      "text/plain": [
       "<Axes: xlabel='Cocaine overdose death rates (CDC WONDER)', ylabel='Count'>"
      ]
     },
     "execution_count": 61,
     "metadata": {},
     "output_type": "execute_result"
    },
    {
     "data": {
      "image/png": "[encoded data removed]",
      "text/plain": [
       "<Figure size 640x480 with 1 Axes>"
      ]
     },
     "metadata": {},
     "output_type": "display_data"
    }
   ],
   "source": [
    "#grafico dos erros\n",
    "import seaborn as sns\n",
    "#histograma\n",
    "sns.histplot(data = squared_errors, kde = True)"
   ]
  },
  {
   "cell_type": "code",
   "execution_count": 62,
   "id": "e68e5dae-002c-464f-bf19-f1c0dfd90015",
   "metadata": {},
   "outputs": [],
   "source": [
    "#funcao calculo desvio padrao\n",
    "def calc_desvio_padrao(variavel, vies = 0):\n",
    "    observacoes = float(len(variavel))\n",
    "    return np.sqrt(np.sum((variavel - np.mean(variavel))**2) / (observacoes - min(vies, 1)))"
   ]
  },
  {
   "cell_type": "code",
   "execution_count": 63,
   "id": "a5ec61ff-fa06-4126-963d-7030606d9a9f",
   "metadata": {},
   "outputs": [
    {
     "name": "stdout",
     "output_type": "stream",
     "text": [
      "Resultado da Funcao: 6.34429 Resultado do numpy: 6.34429\n"
     ]
    }
   ],
   "source": [
    "#imprimindo o desvio padrao via formula e via numpy da variavel rm\n",
    "print('Resultado da Funcao: %0.5f Resultado do numpy: %0.5f' % (calc_desvio_padrao(df['Year']), np.std(df['Year'])))"
   ]
  },
  {
   "cell_type": "code",
   "execution_count": 64,
   "id": "99fc4a9e-23a9-4b86-933d-cec78901f4c1",
   "metadata": {},
   "outputs": [],
   "source": [
    "#funcoes para calcular a variancia da variavel rm e a variavel Cocaine overdose death rates (CDC WONDER)\n",
    "def covariance(variavel_1, variavel_2, vies=0):\n",
    "     observacoes = float(len(variavel_1))\n",
    "     return np.sum((variavel_1 - np.mean(variavel_1)) * (variavel_2 - np.mean(variavel_2))) / (observacoes - min(vies, 1))\n",
    "\n",
    "def standardize(variavel):\n",
    "    return (variavel - np.mean(variavel)) / np.std(variavel)\n",
    "\n",
    "def correlation(var1, var2, vies = 0):\n",
    "    return covariance(standardize(var1), standardize(var2), vies)"
   ]
  },
  {
   "cell_type": "code",
   "execution_count": 65,
   "id": "16731ac9-6585-4f06-994f-2f8509742bc3",
   "metadata": {},
   "outputs": [
    {
     "name": "stdout",
     "output_type": "stream",
     "text": [
      "Nossa estimativa de Correlação: 0.72087\n"
     ]
    }
   ],
   "source": [
    "#comparar resultado da funcao com a pearsonr do Scipy\n",
    "from scipy.stats import pearsonr\n",
    "print('Nossa estimativa de Correlação: %0.5f' % (correlation(df['Year'], df['Cocaine overdose death rates (CDC WONDER)'])))\n"
   ]
  },
  {
   "cell_type": "code",
   "execution_count": 66,
   "id": "fd46453f-0f4b-4296-9daa-d1da4994aef5",
   "metadata": {},
   "outputs": [
    {
     "data": {
      "image/png": "[encoded data removed]",
      "text/plain": [
       "<Figure size 640x480 with 1 Axes>"
      ]
     },
     "metadata": {},
     "output_type": "display_data"
    }
   ],
   "source": [
    "\n",
    "x_range = [df['Year'].min(), df['Year'].max()]\n",
    "\n",
    "# Define os valores de y_range como os valores mínimo e máximo da coluna 'Cocaine overdose death rates (CDC WONDER)'\n",
    "y_range = [df['Cocaine overdose death rates (CDC WONDER)'].min(), df['Cocaine overdose death rates (CDC WONDER)'].max()]\n",
    "\n",
    "# Cria o gráfico\n",
    "plt.plot(df['Year'], df['Cocaine overdose death rates (CDC WONDER)'], marker='o', linestyle='-', color = 'black')\n",
    "\n",
    "# Define os limites dos eixos x e y\n",
    "plt.xlim(x_range)\n",
    "plt.ylim(y_range)\n",
    "\n",
    "# Adiciona rótulos aos eixos\n",
    "plt.xlabel('Anos')\n",
    "plt.ylabel('Taxa overdose por cocaina')\n",
    "\n",
    "# Adiciona título ao gráfico\n",
    "plt.title('Morte por overdose de Cocaina em funcao do tempo')\n",
    "\n",
    "# Exibe o gráfico\n",
    "plt.show()\n"
   ]
  },
  {
   "cell_type": "code",
   "execution_count": 67,
   "id": "941c82c5-25c9-44ae-8778-fb825e18c114",
   "metadata": {},
   "outputs": [
    {
     "data": {
      "image/png": "[encoded data removed]",
      "text/plain": [
       "<Figure size 640x480 with 1 Axes>"
      ]
     },
     "metadata": {},
     "output_type": "display_data"
    }
   ],
   "source": [
    "#plot valores x e y com media\n",
    "scatter_plot = df.plot(kind = 'scatter', x = 'Year', y = 'Cocaine overdose death rates (CDC WONDER)', xlim = x_range, ylim = y_range)\n",
    "\n",
    "#calculo media\n",
    "meanY = scatter_plot.plot(x_range,[df['Cocaine overdose death rates (CDC WONDER)'].mean(),df['Cocaine overdose death rates (CDC WONDER)'].mean()], '--', color = 'red', linewidth = 1)\n",
    "meanY = scatter_plot.plot(x_range,[df['Year'].mean(),df['Year'].mean()], '--', color = 'red', linewidth = 1)"
   ]
  },
  {
   "cell_type": "code",
   "execution_count": 68,
   "id": "6d817355-0ee9-408b-af38-c6c5ae25ac87",
   "metadata": {},
   "outputs": [],
   "source": [
    "#importar funcao\n",
    "import statsmodels.api as sm"
   ]
  },
  {
   "cell_type": "code",
   "execution_count": 69,
   "id": "0ae02b0c-9cc1-474c-a4d4-af18347822d6",
   "metadata": {},
   "outputs": [],
   "source": [
    "# gerar X E Y, adicionar a constante ao valor de x, gerando uma matriz\n",
    "y = df['Cocaine overdose death rates (CDC WONDER)']\n",
    "x = df['Year']"
   ]
  },
  {
   "cell_type": "code",
   "execution_count": 70,
   "id": "0e3b11c8-a453-44d1-a6df-c08a6e824284",
   "metadata": {},
   "outputs": [],
   "source": [
    "#comando que adiciona valores do coeficiente ao X\n",
    "X = sm.add_constant(x)"
   ]
  },
  {
   "cell_type": "code",
   "execution_count": 71,
   "id": "804f4680-3d30-4392-bb71-b4433a0e973a",
   "metadata": {},
   "outputs": [
    {
     "data": {
      "text/html": [
       "<div>\n",
       "<style scoped>\n",
       "    .dataframe tbody tr th:only-of-type {\n",
       "        vertical-align: middle;\n",
       "    }\n",
       "\n",
       "    .dataframe tbody tr th {\n",
       "        vertical-align: top;\n",
       "    }\n",
       "\n",
       "    .dataframe thead th {\n",
       "        text-align: right;\n",
       "    }\n",
       "</style>\n",
       "<table border=\"1\" class=\"dataframe\">\n",
       "  <thead>\n",
       "    <tr style=\"text-align: right;\">\n",
       "      <th></th>\n",
       "      <th>const</th>\n",
       "      <th>Year</th>\n",
       "    </tr>\n",
       "  </thead>\n",
       "  <tbody>\n",
       "    <tr>\n",
       "      <th>0</th>\n",
       "      <td>1.0</td>\n",
       "      <td>1999</td>\n",
       "    </tr>\n",
       "    <tr>\n",
       "      <th>1</th>\n",
       "      <td>1.0</td>\n",
       "      <td>2000</td>\n",
       "    </tr>\n",
       "    <tr>\n",
       "      <th>2</th>\n",
       "      <td>1.0</td>\n",
       "      <td>2001</td>\n",
       "    </tr>\n",
       "    <tr>\n",
       "      <th>3</th>\n",
       "      <td>1.0</td>\n",
       "      <td>2002</td>\n",
       "    </tr>\n",
       "    <tr>\n",
       "      <th>4</th>\n",
       "      <td>1.0</td>\n",
       "      <td>2003</td>\n",
       "    </tr>\n",
       "  </tbody>\n",
       "</table>\n",
       "</div>"
      ],
      "text/plain": [
       "   const  Year\n",
       "0    1.0  1999\n",
       "1    1.0  2000\n",
       "2    1.0  2001\n",
       "3    1.0  2002\n",
       "4    1.0  2003"
      ]
     },
     "execution_count": 71,
     "metadata": {},
     "output_type": "execute_result"
    }
   ],
   "source": [
    "X.head()"
   ]
  },
  {
   "cell_type": "code",
   "execution_count": 72,
   "id": "7cb4365f-890c-47d4-99f3-a0f5f6686b75",
   "metadata": {},
   "outputs": [],
   "source": [
    "#criando o modelo de regressao\n",
    "modelo = sm.OLS(y, X)\n",
    "\n",
    "#treinando o modelo\n",
    "modelo_1 = modelo.fit()"
   ]
  },
  {
   "cell_type": "code",
   "execution_count": 73,
   "id": "ac9cd7de-5bff-4e18-a761-0f7e57eb686a",
   "metadata": {},
   "outputs": [
    {
     "name": "stdout",
     "output_type": "stream",
     "text": [
      "                                        OLS Regression Results                                       \n",
      "=====================================================================================================\n",
      "Dep. Variable:     Cocaine overdose death rates (CDC WONDER)   R-squared:                       0.520\n",
      "Model:                                                   OLS   Adj. R-squared:                  0.496\n",
      "Method:                                        Least Squares   F-statistic:                     21.64\n",
      "Date:                                       Thu, 04 Apr 2024   Prob (F-statistic):           0.000154\n",
      "Time:                                               09:06:41   Log-Likelihood:                -29.265\n",
      "No. Observations:                                         22   AIC:                             62.53\n",
      "Df Residuals:                                             20   BIC:                             64.71\n",
      "Df Model:                                                  1                                         \n",
      "Covariance Type:                                   nonrobust                                         \n",
      "==============================================================================\n",
      "                 coef    std err          t      P>|t|      [0.025      0.975]\n",
      "------------------------------------------------------------------------------\n",
      "const       -299.1317     64.814     -4.615      0.000    -434.332    -163.932\n",
      "Year           0.1500      0.032      4.652      0.000       0.083       0.217\n",
      "==============================================================================\n",
      "Omnibus:                        0.306   Durbin-Watson:                   0.216\n",
      "Prob(Omnibus):                  0.858   Jarque-Bera (JB):                0.474\n",
      "Skew:                           0.064   Prob(JB):                        0.789\n",
      "Kurtosis:                       2.292   Cond. No.                     6.36e+05\n",
      "==============================================================================\n",
      "\n",
      "Notes:\n",
      "[1] Standard Errors assume that the covariance matrix of the errors is correctly specified.\n",
      "[2] The condition number is large, 6.36e+05. This might indicate that there are\n",
      "strong multicollinearity or other numerical problems.\n"
     ]
    }
   ],
   "source": [
    "print(modelo_1.summary())"
   ]
  },
  {
   "cell_type": "code",
   "execution_count": 74,
   "id": "bb0f1b3e-830c-4cdf-a65d-e02932b5f86c",
   "metadata": {},
   "outputs": [
    {
     "name": "stdout",
     "output_type": "stream",
     "text": [
      "const   -299.131733\n",
      "Year       0.150028\n",
      "dtype: float64\n"
     ]
    }
   ],
   "source": [
    "print(modelo_1.params)"
   ]
  },
  {
   "cell_type": "code",
   "execution_count": 75,
   "id": "5758145f-91e1-4fc4-9dd0-185306fe49cc",
   "metadata": {},
   "outputs": [
    {
     "data": {
      "text/plain": [
       "0     0.774704\n",
       "1     0.924732\n",
       "2     1.074760\n",
       "3     1.224788\n",
       "4     1.374816\n",
       "5     1.524845\n",
       "6     1.674873\n",
       "7     1.824901\n",
       "8     1.974929\n",
       "9     2.124958\n",
       "10    2.274986\n",
       "11    2.425014\n",
       "12    2.575042\n",
       "13    2.725071\n",
       "14    2.875099\n",
       "15    3.025127\n",
       "16    3.175155\n",
       "17    3.325184\n",
       "18    3.475212\n",
       "19    3.625240\n",
       "20    3.775268\n",
       "21    3.925296\n",
       "dtype: float64"
      ]
     },
     "execution_count": 75,
     "metadata": {},
     "output_type": "execute_result"
    }
   ],
   "source": [
    "#gerar valores previstos\n",
    "valores_previstos = modelo_1.predict(X)\n",
    "valores_previstos"
   ]
  },
  {
   "cell_type": "code",
   "execution_count": 76,
   "id": "efa6d74f-22ee-41e9-b8e1-15cb81abcd0f",
   "metadata": {},
   "outputs": [
    {
     "name": "stdout",
     "output_type": "stream",
     "text": [
      "se Ano = 2024 nosso modelo preve que a mediana da taxa de mortalidade  e 5\n"
     ]
    }
   ],
   "source": [
    "#fazendo previsao com modelo treinado\n",
    "Year = 2024\n",
    "Xp = np.array([1,Year])\n",
    "print('se Ano = %01.f nosso modelo preve que a mediana da taxa de mortalidade  e %01.f' % (Year, modelo_1.predict(Xp)))"
   ]
  },
  {
   "cell_type": "code",
   "execution_count": 77,
   "id": "99cddd48-efe0-40d1-a757-b5ffc5f10af3",
   "metadata": {},
   "outputs": [
    {
     "data": {
      "text/plain": [
       "Text(0, 0.5, 'Taxa overdose por cocaina')"
      ]
     },
     "execution_count": 77,
     "metadata": {},
     "output_type": "execute_result"
    },
    {
     "data": {
      "image/png": "[encoded data removed]",
      "text/plain": [
       "<Figure size 640x480 with 1 Axes>"
      ]
     },
     "metadata": {},
     "output_type": "display_data"
    }
   ],
   "source": [
    "#range valores para x e y\n",
    "x_range = [df['Year'].min(), df['Year'].max()]\n",
    "\n",
    "# Define os valores de y_range como os valores mínimo e máximo da coluna 'Cocaine overdose death rates (CDC WONDER)'\n",
    "y_range = [df['Cocaine overdose death rates (CDC WONDER)'].min(), df['Cocaine overdose death rates (CDC WONDER)'].max()]\n",
    "#plot valores x e y com media\n",
    "scatter_plot = df.plot(kind = 'scatter', x = 'Year', y = 'Cocaine overdose death rates (CDC WONDER)', xlim = x_range, ylim = y_range)\n",
    "\n",
    "#calculo media\n",
    "meanY = scatter_plot.plot(x_range,[df['Cocaine overdose death rates (CDC WONDER)'].mean(),df['Cocaine overdose death rates (CDC WONDER)'].mean()], '--', color = 'red', linewidth = 1)\n",
    "meanY = scatter_plot.plot(x_range,[df['Year'].mean(),df['Year'].mean()], '--', color = 'red', linewidth = 1)\n",
    "\n",
    "#terceira camada linha de regressao\n",
    "regression_line = scatter_plot.plot(df['Year'], valores_previstos, '-', color = 'green', linewidth = 2)\n",
    "\n",
    "#nomear o x e o y\n",
    "plt.xlabel('Anos')\n",
    "plt.ylabel('Taxa overdose por cocaina')\n"
   ]
  },
  {
   "cell_type": "code",
   "execution_count": 78,
   "id": "33f70bfb-5e69-4353-b391-846ce1618c8b",
   "metadata": {},
   "outputs": [],
   "source": [
    "# gerando residuos\n",
    "residuos = df['Cocaine overdose death rates (CDC WONDER)'] - valores_previstos\n",
    "residuos_normalizados = standardize(residuos)\n"
   ]
  },
  {
   "cell_type": "code",
   "execution_count": 79,
   "id": "21cc57d3-182c-4ca4-b4eb-c4a94407a32a",
   "metadata": {},
   "outputs": [
    {
     "data": {
      "image/png": "[encoded data removed]",
      "text/plain": [
       "<Figure size 640x480 with 1 Axes>"
      ]
     },
     "metadata": {},
     "output_type": "display_data"
    }
   ],
   "source": [
    "#scatter plot dos residuos\n",
    "residual_scatter_plot = plt.plot(df['Year'], residuos_normalizados,'bp')\n",
    "plt.xlabel('Ano')\n",
    "plt.ylabel('residuos normalizados')\n",
    "mean_residual = plt.plot([int(x_range[0]), round(x_range[1],0)], [0,0], '-', color = 'red', linewidth = 3)\n",
    "upper_bound = plt.plot([int(x_range[0]), round(x_range[1],0)], [3,3], '--', color = 'red', linewidth = 2)\n",
    "lower_bound = plt.plot([int(x_range[0]), round(x_range[1],0)], [-3,-3], '-', color = 'red', linewidth = 2)\n",
    "plt.grid()"
   ]
  },
  {
   "cell_type": "code",
   "execution_count": 81,
   "id": "425aae74-3fe1-463b-a78c-30dc5248d12b",
   "metadata": {},
   "outputs": [
    {
     "name": "stdout",
     "output_type": "stream",
     "text": [
      "           Entity Code  Year  Any opioid death rates (CDC WONDER)  \\\n",
      "0   United States  USA  1999                                  2.9   \n",
      "1   United States  USA  2000                                  3.0   \n",
      "2   United States  USA  2001                                  3.3   \n",
      "3   United States  USA  2002                                  4.1   \n",
      "4   United States  USA  2003                                  4.5   \n",
      "5   United States  USA  2004                                  4.7   \n",
      "6   United States  USA  2005                                  5.1   \n",
      "7   United States  USA  2006                                  5.9   \n",
      "8   United States  USA  2007                                  6.1   \n",
      "9   United States  USA  2008                                  6.4   \n",
      "10  United States  USA  2009                                  6.6   \n",
      "11  United States  USA  2010                                  6.8   \n",
      "12  United States  USA  2011                                  7.3   \n",
      "13  United States  USA  2012                                  7.4   \n",
      "14  United States  USA  2013                                  7.9   \n",
      "15  United States  USA  2014                                  9.0   \n",
      "16  United States  USA  2015                                 10.4   \n",
      "17  United States  USA  2016                                 13.3   \n",
      "18  United States  USA  2017                                 14.9   \n",
      "19  United States  USA  2018                                 14.6   \n",
      "20  United States  USA  2019                                 15.5   \n",
      "21  United States  USA  2020                                 21.4   \n",
      "\n",
      "    Cocaine overdose death rates (CDC WONDER)  \\\n",
      "0                                         1.4   \n",
      "1                                         1.3   \n",
      "2                                         1.3   \n",
      "3                                         1.6   \n",
      "4                                         1.8   \n",
      "5                                         1.9   \n",
      "6                                         2.1   \n",
      "7                                         2.5   \n",
      "8                                         2.2   \n",
      "9                                         1.7   \n",
      "10                                        1.4   \n",
      "11                                        1.3   \n",
      "12                                        1.5   \n",
      "13                                        1.4   \n",
      "14                                        1.6   \n",
      "15                                        1.7   \n",
      "16                                        2.1   \n",
      "17                                        3.2   \n",
      "18                                        4.3   \n",
      "19                                        4.5   \n",
      "20                                        4.9   \n",
      "21                                        6.0   \n",
      "\n",
      "    Heroin overdose death rates (CDC WONDER)  \\\n",
      "0                                        0.7   \n",
      "1                                        0.7   \n",
      "2                                        0.6   \n",
      "3                                        0.7   \n",
      "4                                        0.7   \n",
      "5                                        0.6   \n",
      "6                                        0.7   \n",
      "7                                        0.7   \n",
      "8                                        0.8   \n",
      "9                                        1.0   \n",
      "10                                       1.1   \n",
      "11                                       1.0   \n",
      "12                                       1.4   \n",
      "13                                       1.9   \n",
      "14                                       2.7   \n",
      "15                                       3.4   \n",
      "16                                       4.1   \n",
      "17                                       4.9   \n",
      "18                                       4.9   \n",
      "19                                       4.7   \n",
      "20                                       4.4   \n",
      "21                                       4.1   \n",
      "\n",
      "    Synthetic opioids death rates (CDC WONDER)  \\\n",
      "0                                          0.3   \n",
      "1                                          0.3   \n",
      "2                                          0.3   \n",
      "3                                          0.4   \n",
      "4                                          0.5   \n",
      "5                                          0.6   \n",
      "6                                          0.6   \n",
      "7                                          0.9   \n",
      "8                                          0.7   \n",
      "9                                          0.8   \n",
      "10                                         1.0   \n",
      "11                                         1.0   \n",
      "12                                         0.8   \n",
      "13                                         0.8   \n",
      "14                                         1.0   \n",
      "15                                         1.8   \n",
      "16                                         3.1   \n",
      "17                                         6.2   \n",
      "18                                         9.0   \n",
      "19                                         9.9   \n",
      "20                                        11.4   \n",
      "21                                        17.8   \n",
      "\n",
      "    Prescription Opioids death rates (US CDC WONDER)  \n",
      "0                                                1.2  \n",
      "1                                                1.3  \n",
      "2                                                1.7  \n",
      "3                                                2.3  \n",
      "4                                                2.6  \n",
      "5                                                2.9  \n",
      "6                                                3.2  \n",
      "7                                                3.9  \n",
      "8                                                4.2  \n",
      "9                                                4.3  \n",
      "10                                               4.4  \n",
      "11                                               4.7  \n",
      "12                                               4.9  \n",
      "13                                               4.5  \n",
      "14                                               4.4  \n",
      "15                                               4.6  \n",
      "16                                               4.7  \n",
      "17                                               5.2  \n",
      "18                                               5.2  \n",
      "19                                               4.5  \n",
      "20                                               4.2  \n",
      "21                                               4.9  \n"
     ]
    },
    {
     "data": {
      "text/html": [
       "<div>\n",
       "<style scoped>\n",
       "    .dataframe tbody tr th:only-of-type {\n",
       "        vertical-align: middle;\n",
       "    }\n",
       "\n",
       "    .dataframe tbody tr th {\n",
       "        vertical-align: top;\n",
       "    }\n",
       "\n",
       "    .dataframe thead th {\n",
       "        text-align: right;\n",
       "    }\n",
       "</style>\n",
       "<table border=\"1\" class=\"dataframe\">\n",
       "  <thead>\n",
       "    <tr style=\"text-align: right;\">\n",
       "      <th></th>\n",
       "      <th>Entity</th>\n",
       "      <th>Code</th>\n",
       "      <th>Year</th>\n",
       "      <th>Any opioid death rates (CDC WONDER)</th>\n",
       "      <th>Cocaine overdose death rates (CDC WONDER)</th>\n",
       "      <th>Heroin overdose death rates (CDC WONDER)</th>\n",
       "      <th>Synthetic opioids death rates (CDC WONDER)</th>\n",
       "      <th>Prescription Opioids death rates (US CDC WONDER)</th>\n",
       "    </tr>\n",
       "  </thead>\n",
       "  <tbody>\n",
       "    <tr>\n",
       "      <th>0</th>\n",
       "      <td>United States</td>\n",
       "      <td>USA</td>\n",
       "      <td>1999</td>\n",
       "      <td>2.9</td>\n",
       "      <td>1.4</td>\n",
       "      <td>0.7</td>\n",
       "      <td>0.3</td>\n",
       "      <td>1.2</td>\n",
       "    </tr>\n",
       "    <tr>\n",
       "      <th>1</th>\n",
       "      <td>United States</td>\n",
       "      <td>USA</td>\n",
       "      <td>2000</td>\n",
       "      <td>3.0</td>\n",
       "      <td>1.3</td>\n",
       "      <td>0.7</td>\n",
       "      <td>0.3</td>\n",
       "      <td>1.3</td>\n",
       "    </tr>\n",
       "    <tr>\n",
       "      <th>2</th>\n",
       "      <td>United States</td>\n",
       "      <td>USA</td>\n",
       "      <td>2001</td>\n",
       "      <td>3.3</td>\n",
       "      <td>1.3</td>\n",
       "      <td>0.6</td>\n",
       "      <td>0.3</td>\n",
       "      <td>1.7</td>\n",
       "    </tr>\n",
       "    <tr>\n",
       "      <th>3</th>\n",
       "      <td>United States</td>\n",
       "      <td>USA</td>\n",
       "      <td>2002</td>\n",
       "      <td>4.1</td>\n",
       "      <td>1.6</td>\n",
       "      <td>0.7</td>\n",
       "      <td>0.4</td>\n",
       "      <td>2.3</td>\n",
       "    </tr>\n",
       "    <tr>\n",
       "      <th>4</th>\n",
       "      <td>United States</td>\n",
       "      <td>USA</td>\n",
       "      <td>2003</td>\n",
       "      <td>4.5</td>\n",
       "      <td>1.8</td>\n",
       "      <td>0.7</td>\n",
       "      <td>0.5</td>\n",
       "      <td>2.6</td>\n",
       "    </tr>\n",
       "  </tbody>\n",
       "</table>\n",
       "</div>"
      ],
      "text/plain": [
       "          Entity Code  Year  Any opioid death rates (CDC WONDER)  \\\n",
       "0  United States  USA  1999                                  2.9   \n",
       "1  United States  USA  2000                                  3.0   \n",
       "2  United States  USA  2001                                  3.3   \n",
       "3  United States  USA  2002                                  4.1   \n",
       "4  United States  USA  2003                                  4.5   \n",
       "\n",
       "   Cocaine overdose death rates (CDC WONDER)  \\\n",
       "0                                        1.4   \n",
       "1                                        1.3   \n",
       "2                                        1.3   \n",
       "3                                        1.6   \n",
       "4                                        1.8   \n",
       "\n",
       "   Heroin overdose death rates (CDC WONDER)  \\\n",
       "0                                       0.7   \n",
       "1                                       0.7   \n",
       "2                                       0.6   \n",
       "3                                       0.7   \n",
       "4                                       0.7   \n",
       "\n",
       "   Synthetic opioids death rates (CDC WONDER)  \\\n",
       "0                                         0.3   \n",
       "1                                         0.3   \n",
       "2                                         0.3   \n",
       "3                                         0.4   \n",
       "4                                         0.5   \n",
       "\n",
       "   Prescription Opioids death rates (US CDC WONDER)  \n",
       "0                                               1.2  \n",
       "1                                               1.3  \n",
       "2                                               1.7  \n",
       "3                                               2.3  \n",
       "4                                               2.6  "
      ]
     },
     "execution_count": 81,
     "metadata": {},
     "output_type": "execute_result"
    }
   ],
   "source": [
    "#agora é da heroina\n",
    "df = pd.read_csv(\"drug-overdose-death-rates new.csv\")\n",
    "print(df)\n",
    "df.head(5)"
   ]
  },
  {
   "cell_type": "code",
   "execution_count": 82,
   "id": "1b6dc3b0-e09a-403e-952e-57db1b4c5d25",
   "metadata": {},
   "outputs": [],
   "source": [
    "valor_medioh = df['Heroin overdose death rates (CDC WONDER)'].mean()"
   ]
  },
  {
   "cell_type": "code",
   "execution_count": 83,
   "id": "c6c6474f-fa36-466f-a5b6-cfc24ca3c04a",
   "metadata": {},
   "outputs": [
    {
     "data": {
      "text/plain": [
       "2.0818181818181816"
      ]
     },
     "execution_count": 83,
     "metadata": {},
     "output_type": "execute_result"
    }
   ],
   "source": [
    "valor_medioh"
   ]
  },
  {
   "cell_type": "code",
   "execution_count": 85,
   "id": "791a364d-2d5e-4654-9d9c-65083bbdafb1",
   "metadata": {},
   "outputs": [
    {
     "name": "stdout",
     "output_type": "stream",
     "text": [
      "Soma dos quadrados dos erros(SSE): 60\n"
     ]
    }
   ],
   "source": [
    "#simulando SSE\n",
    "squared_errorsh = pd.Series(valor_medioh - df['Heroin overdose death rates (CDC WONDER)'])**2\n",
    "SSEh = np.sum(squared_errorsh)\n",
    "print ('Soma dos quadrados dos erros(SSE): %01.f'% SSEh)"
   ]
  },
  {
   "cell_type": "code",
   "execution_count": 89,
   "id": "0e009a23-1db9-4f3a-8fac-a748fe1afde0",
   "metadata": {},
   "outputs": [
    {
     "name": "stderr",
     "output_type": "stream",
     "text": [
      "C:\\Users\\ALUNO PROZ\\anaconda3\\Lib\\site-packages\\seaborn\\_oldcore.py:1119: FutureWarning: use_inf_as_na option is deprecated and will be removed in a future version. Convert inf values to NaN before operating instead.\n",
      "  with pd.option_context('mode.use_inf_as_na', True):\n"
     ]
    },
    {
     "data": {
      "text/plain": [
       "<Axes: xlabel='Heroin overdose death rates (CDC WONDER)', ylabel='Count'>"
      ]
     },
     "execution_count": 89,
     "metadata": {},
     "output_type": "execute_result"
    },
    {
     "data": {
      "image/png": "[encoded data removed]",
      "text/plain": [
       "<Figure size 640x480 with 1 Axes>"
      ]
     },
     "metadata": {},
     "output_type": "display_data"
    }
   ],
   "source": [
    "#grafico dos erros\n",
    "import seaborn as sns\n",
    "#histograma\n",
    "sns.histplot(data = squared_errorsh, kde = True, color = 'green')"
   ]
  },
  {
   "cell_type": "code",
   "execution_count": 92,
   "id": "cf0374eb-3260-4724-b571-40ddd313b36c",
   "metadata": {},
   "outputs": [],
   "source": [
    "#funcao calculo desvio padrao\n",
    "def calc_desvio_padraoh(variavelh, vies = 0):\n",
    "    observacoesh = float(len(variavelh))\n",
    "    return np.sqrt(np.sum((variavelh - np.mean(variavelh))**2) / (observacoesh - min(vies, 1)))"
   ]
  },
  {
   "cell_type": "code",
   "execution_count": 93,
   "id": "1672514f-c7f1-431b-8aae-b9a6a42a74c5",
   "metadata": {},
   "outputs": [
    {
     "name": "stdout",
     "output_type": "stream",
     "text": [
      "Resultado da Funcao: 6.34429 Resultado do numpy: 6.34429\n"
     ]
    }
   ],
   "source": [
    "#imprimindo o desvio padrao via formula e via numpy da variavel rm\n",
    "print('Resultado da Funcao: %0.5f Resultado do numpy: %0.5f' % (calc_desvio_padraoh(df['Year']), np.std(df['Year'])))"
   ]
  },
  {
   "cell_type": "code",
   "execution_count": 94,
   "id": "45de7d39-5a2c-449f-8543-1058df800045",
   "metadata": {},
   "outputs": [],
   "source": [
    "#funcoes para calcular a variancia da variavel rm e a variavel Cocaine overdose death rates (CDC WONDER)\n",
    "def covariance(variavel_1h, variavel_2h, vies=0):\n",
    "     observacoesh = float(len(variavel_1h))\n",
    "     return np.sum((variavel_1h - np.mean(variavel_1h)) * (variavel_2h - np.mean(variavel_2h))) / (observacoesh - min(vies, 1))\n",
    "\n",
    "def standardize(variavel):\n",
    "    return (variavel - np.mean(variavel)) / np.std(variavel)\n",
    "\n",
    "def correlation(var1, var2, vies = 0):\n",
    "    return covariance(standardize(var1), standardize(var2), vies)"
   ]
  },
  {
   "cell_type": "code",
   "execution_count": 95,
   "id": "3207ea4c-36de-464d-bc63-50ba256631ed",
   "metadata": {},
   "outputs": [
    {
     "name": "stdout",
     "output_type": "stream",
     "text": [
      "Nossa estimativa de Correlação: 0.89703\n"
     ]
    }
   ],
   "source": [
    "#comparar resultado da funcao com a pearsonr do Scipy\n",
    "from scipy.stats import pearsonr\n",
    "print('Nossa estimativa de Correlação: %0.5f' % (correlation(df['Year'], df['Heroin overdose death rates (CDC WONDER)'])))"
   ]
  },
  {
   "cell_type": "code",
   "execution_count": 98,
   "id": "4f6d9537-e524-43b5-ae02-fe634008bea7",
   "metadata": {},
   "outputs": [
    {
     "data": {
      "image/png": "[encoded data removed]",
      "text/plain": [
       "<Figure size 640x480 with 1 Axes>"
      ]
     },
     "metadata": {},
     "output_type": "display_data"
    }
   ],
   "source": [
    "x_range = [df['Year'].min(), df['Year'].max()]\n",
    "\n",
    "# Define os valores de y_range como os valores mínimo e máximo da coluna 'Cocaine overdose death rates (CDC WONDER)'\n",
    "y_range = [df['Heroin overdose death rates (CDC WONDER)'].min(), df['Cocaine overdose death rates (CDC WONDER)'].max()]\n",
    "\n",
    "# Cria o gráfico\n",
    "plt.plot(df['Year'], df['Heroin overdose death rates (CDC WONDER)'], marker='o', linestyle='-', color = 'red')\n",
    "\n",
    "# Define os limites dos eixos x e y\n",
    "plt.xlim(x_range)\n",
    "plt.ylim(y_range)\n",
    "\n",
    "# Adiciona rótulos aos eixos\n",
    "plt.xlabel('Anos')\n",
    "plt.ylabel('Taxa overdose por heroina')\n",
    "\n",
    "# Adiciona título ao gráfico\n",
    "plt.title('Morte por overdose de Heroina em funcao do tempo')\n",
    "\n",
    "# Exibe o gráfico\n",
    "plt.show()"
   ]
  },
  {
   "cell_type": "code",
   "execution_count": 99,
   "id": "2f699961-3e18-479e-87eb-f29272cc6e3a",
   "metadata": {},
   "outputs": [
    {
     "data": {
      "image/png": "[encoded data removed]",
      "text/plain": [
       "<Figure size 640x480 with 1 Axes>"
      ]
     },
     "metadata": {},
     "output_type": "display_data"
    }
   ],
   "source": [
    "#plot valores x e y com media\n",
    "scatter_plot = df.plot(kind = 'scatter', x = 'Year', y = 'Heroin overdose death rates (CDC WONDER)', xlim = x_range, ylim = y_range)\n",
    "\n",
    "#calculo media\n",
    "meanY = scatter_plot.plot(x_range,[df['Heroin overdose death rates (CDC WONDER)'].mean(),df['Heroin overdose death rates (CDC WONDER)'].mean()], '--', color = 'red', linewidth = 1)\n",
    "meanY = scatter_plot.plot(x_range,[df['Year'].mean(),df['Year'].mean()], '--', color = 'red', linewidth = 1)"
   ]
  },
  {
   "cell_type": "code",
   "execution_count": 100,
   "id": "aab70007-dd56-4b6f-b405-1199de432f90",
   "metadata": {},
   "outputs": [],
   "source": [
    "#importar funcao\n",
    "import statsmodels.api as sm"
   ]
  },
  {
   "cell_type": "code",
   "execution_count": 103,
   "id": "2b0d4d5b-501d-4ba8-a039-ad6b15080bce",
   "metadata": {},
   "outputs": [],
   "source": [
    "# gerar X E Y, adicionar a constante ao valor de x, gerando uma matriz\n",
    "y = df['Heroin overdose death rates (CDC WONDER)']\n",
    "x = df['Year']"
   ]
  },
  {
   "cell_type": "code",
   "execution_count": 104,
   "id": "fe6ac54c-cb4f-4fc8-81be-b27c057fe72f",
   "metadata": {},
   "outputs": [],
   "source": [
    "#comando que adiciona valores do coeficiente ao X\n",
    "X = sm.add_constant(x)"
   ]
  },
  {
   "cell_type": "code",
   "execution_count": 105,
   "id": "78e669b0-6670-4dfa-9d47-d15e83839199",
   "metadata": {},
   "outputs": [
    {
     "data": {
      "text/html": [
       "<div>\n",
       "<style scoped>\n",
       "    .dataframe tbody tr th:only-of-type {\n",
       "        vertical-align: middle;\n",
       "    }\n",
       "\n",
       "    .dataframe tbody tr th {\n",
       "        vertical-align: top;\n",
       "    }\n",
       "\n",
       "    .dataframe thead th {\n",
       "        text-align: right;\n",
       "    }\n",
       "</style>\n",
       "<table border=\"1\" class=\"dataframe\">\n",
       "  <thead>\n",
       "    <tr style=\"text-align: right;\">\n",
       "      <th></th>\n",
       "      <th>const</th>\n",
       "      <th>Year</th>\n",
       "    </tr>\n",
       "  </thead>\n",
       "  <tbody>\n",
       "    <tr>\n",
       "      <th>0</th>\n",
       "      <td>1.0</td>\n",
       "      <td>1999</td>\n",
       "    </tr>\n",
       "    <tr>\n",
       "      <th>1</th>\n",
       "      <td>1.0</td>\n",
       "      <td>2000</td>\n",
       "    </tr>\n",
       "    <tr>\n",
       "      <th>2</th>\n",
       "      <td>1.0</td>\n",
       "      <td>2001</td>\n",
       "    </tr>\n",
       "    <tr>\n",
       "      <th>3</th>\n",
       "      <td>1.0</td>\n",
       "      <td>2002</td>\n",
       "    </tr>\n",
       "    <tr>\n",
       "      <th>4</th>\n",
       "      <td>1.0</td>\n",
       "      <td>2003</td>\n",
       "    </tr>\n",
       "  </tbody>\n",
       "</table>\n",
       "</div>"
      ],
      "text/plain": [
       "   const  Year\n",
       "0    1.0  1999\n",
       "1    1.0  2000\n",
       "2    1.0  2001\n",
       "3    1.0  2002\n",
       "4    1.0  2003"
      ]
     },
     "execution_count": 105,
     "metadata": {},
     "output_type": "execute_result"
    }
   ],
   "source": [
    "X.head()"
   ]
  },
  {
   "cell_type": "code",
   "execution_count": 106,
   "id": "920cf971-c386-4a8f-8021-bdc4e37b8010",
   "metadata": {},
   "outputs": [],
   "source": [
    "#criando o modelo de regressao\n",
    "modeloh = sm.OLS(y, X)\n",
    "\n",
    "#treinando o modelo\n",
    "modelo_1h = modeloh.fit()"
   ]
  },
  {
   "cell_type": "code",
   "execution_count": 107,
   "id": "770170d4-2b00-4f65-a78f-0e910fd40245",
   "metadata": {},
   "outputs": [
    {
     "name": "stdout",
     "output_type": "stream",
     "text": [
      "                                       OLS Regression Results                                       \n",
      "====================================================================================================\n",
      "Dep. Variable:     Heroin overdose death rates (CDC WONDER)   R-squared:                       0.805\n",
      "Model:                                                  OLS   Adj. R-squared:                  0.795\n",
      "Method:                                       Least Squares   F-statistic:                     82.39\n",
      "Date:                                      Thu, 04 Apr 2024   Prob (F-statistic):           1.57e-08\n",
      "Time:                                              09:23:11   Log-Likelihood:                -24.230\n",
      "No. Observations:                                        22   AIC:                             52.46\n",
      "Df Residuals:                                            20   BIC:                             54.64\n",
      "Df Model:                                                 1                                         \n",
      "Covariance Type:                                  nonrobust                                         \n",
      "==============================================================================\n",
      "                 coef    std err          t      P>|t|      [0.025      0.975]\n",
      "------------------------------------------------------------------------------\n",
      "const       -465.8560     51.554     -9.036      0.000    -573.396    -358.316\n",
      "Year           0.2329      0.026      9.077      0.000       0.179       0.286\n",
      "==============================================================================\n",
      "Omnibus:                        3.073   Durbin-Watson:                   0.219\n",
      "Prob(Omnibus):                  0.215   Jarque-Bera (JB):                1.324\n",
      "Skew:                           0.132   Prob(JB):                        0.516\n",
      "Kurtosis:                       1.828   Cond. No.                     6.36e+05\n",
      "==============================================================================\n",
      "\n",
      "Notes:\n",
      "[1] Standard Errors assume that the covariance matrix of the errors is correctly specified.\n",
      "[2] The condition number is large, 6.36e+05. This might indicate that there are\n",
      "strong multicollinearity or other numerical problems.\n"
     ]
    }
   ],
   "source": [
    "print(modelo_1h.summary())"
   ]
  },
  {
   "cell_type": "code",
   "execution_count": 108,
   "id": "70256367-ca79-4f5c-8562-3fff6c2033b4",
   "metadata": {},
   "outputs": [
    {
     "name": "stdout",
     "output_type": "stream",
     "text": [
      "const   -465.855957\n",
      "Year       0.232863\n",
      "dtype: float64\n"
     ]
    }
   ],
   "source": [
    "print(modelo_1h.params)"
   ]
  },
  {
   "cell_type": "code",
   "execution_count": 109,
   "id": "d9c710a8-009d-476d-a703-2164e31d8e6a",
   "metadata": {},
   "outputs": [
    {
     "data": {
      "text/plain": [
       "0    -0.363241\n",
       "1    -0.130378\n",
       "2     0.102484\n",
       "3     0.335347\n",
       "4     0.568210\n",
       "5     0.801073\n",
       "6     1.033936\n",
       "7     1.266798\n",
       "8     1.499661\n",
       "9     1.732524\n",
       "10    1.965387\n",
       "11    2.198250\n",
       "12    2.431112\n",
       "13    2.663975\n",
       "14    2.896838\n",
       "15    3.129701\n",
       "16    3.362564\n",
       "17    3.595426\n",
       "18    3.828289\n",
       "19    4.061152\n",
       "20    4.294015\n",
       "21    4.526877\n",
       "dtype: float64"
      ]
     },
     "execution_count": 109,
     "metadata": {},
     "output_type": "execute_result"
    }
   ],
   "source": [
    "#gerar valores previstos\n",
    "valores_previstosh = modelo_1h.predict(X)\n",
    "valores_previstosh"
   ]
  },
  {
   "cell_type": "code",
   "execution_count": 111,
   "id": "10be26e0-d7a1-4b7c-a947-b3bae58f5a05",
   "metadata": {},
   "outputs": [
    {
     "name": "stdout",
     "output_type": "stream",
     "text": [
      "se Ano = 2050 nosso modelo preve que a mediana da taxa de mortalidade por heroina e 12\n"
     ]
    }
   ],
   "source": [
    "#fazendo previsao com modelo treinado\n",
    "Year = 2050\n",
    "Xp = np.array([1,Year])\n",
    "print('se Ano = %01.f nosso modelo preve que a mediana da taxa de mortalidade por heroina e %01.f' % (Year, modelo_1h.predict(Xp)))"
   ]
  },
  {
   "cell_type": "code",
   "execution_count": 112,
   "id": "d9cf89a6-240b-4d6a-8a0a-fc2dcc252c74",
   "metadata": {},
   "outputs": [
    {
     "data": {
      "text/plain": [
       "Text(0, 0.5, 'Taxa overdose por cocaina')"
      ]
     },
     "execution_count": 112,
     "metadata": {},
     "output_type": "execute_result"
    },
    {
     "data": {
      "image/png": "[encoded data removed]",
      "text/plain": [
       "<Figure size 640x480 with 1 Axes>"
      ]
     },
     "metadata": {},
     "output_type": "display_data"
    }
   ],
   "source": [
    "#range valores para x e y\n",
    "x_range = [df['Year'].min(), df['Year'].max()]\n",
    "\n",
    "# Define os valores de y_range como os valores mínimo e máximo da coluna 'Cocaine overdose death rates (CDC WONDER)'\n",
    "y_range = [df['Heroin overdose death rates (CDC WONDER)'].min(), df['Heroin overdose death rates (CDC WONDER)'].max()]\n",
    "#plot valores x e y com media\n",
    "scatter_plot = df.plot(kind = 'scatter', x = 'Year', y = 'Heroin overdose death rates (CDC WONDER)', xlim = x_range, ylim = y_range)\n",
    "\n",
    "#calculo media\n",
    "meanY = scatter_plot.plot(x_range,[df['Heroin overdose death rates (CDC WONDER)'].mean(),df['Heroin overdose death rates (CDC WONDER)'].mean()], '--', color = 'red', linewidth = 1)\n",
    "meanY = scatter_plot.plot(x_range,[df['Year'].mean(),df['Year'].mean()], '--', color = 'red', linewidth = 1)\n",
    "\n",
    "#terceira camada linha de regressao\n",
    "regression_line = scatter_plot.plot(df['Year'], valores_previstos, '-', color = 'green', linewidth = 2)\n",
    "\n",
    "#nomear o x e o y\n",
    "plt.xlabel('Anos')\n",
    "plt.ylabel('Taxa overdose por cocaina')"
   ]
  },
  {
   "cell_type": "code",
   "execution_count": 114,
   "id": "e65c59b6-f10e-4989-a520-e5e671e28e8a",
   "metadata": {},
   "outputs": [],
   "source": [
    "# gerando residuos\n",
    "residuosh = df['Heroin overdose death rates (CDC WONDER)'] - valores_previstosh\n",
    "residuos_normalizadosh = standardize(residuosh)\n"
   ]
  },
  {
   "cell_type": "code",
   "execution_count": 115,
   "id": "24b74689-5f02-4837-9f7e-8b7d5af93c85",
   "metadata": {},
   "outputs": [
    {
     "data": {
      "image/png": "[encoded data removed]",
      "text/plain": [
       "<Figure size 640x480 with 1 Axes>"
      ]
     },
     "metadata": {},
     "output_type": "display_data"
    }
   ],
   "source": [
    "#scatter plot dos residuos\n",
    "residual_scatter_plot = plt.plot(df['Year'], residuos_normalizadosh,'bp')\n",
    "plt.xlabel('Ano')\n",
    "plt.ylabel('residuos normalizados')\n",
    "mean_residualh = plt.plot([int(x_range[0]), round(x_range[1],0)], [0,0], '-', color = 'red', linewidth = 3)\n",
    "upper_bound = plt.plot([int(x_range[0]), round(x_range[1],0)], [3,3], '--', color = 'red', linewidth = 2)\n",
    "lower_bound = plt.plot([int(x_range[0]), round(x_range[1],0)], [-3,-3], '-', color = 'red', linewidth = 2)\n",
    "plt.grid()"
   ]
  },
  {
   "cell_type": "code",
   "execution_count": null,
   "id": "030ec2e5-d646-4733-b1af-4afc121bcaf7",
   "metadata": {},
   "outputs": [],
   "source": []
  }
 ],
 "metadata": {
  "kernelspec": {
   "display_name": "Python 3 (ipykernel)",
   "language": "python",
   "name": "python3"
  },
  "language_info": {
   "codemirror_mode": {
    "name": "ipython",
    "version": 3
   },
   "file_extension": ".py",
   "mimetype": "text/x-python",
   "name": "python",
   "nbconvert_exporter": "python",
   "pygments_lexer": "ipython3",
   "version": "3.11.7"
  }
 },
 "nbformat": 4,
 "nbformat_minor": 5
}
